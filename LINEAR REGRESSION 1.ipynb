{
 "cells": [
  {
   "cell_type": "code",
   "execution_count": 1,
   "id": "537cb6cf",
   "metadata": {},
   "outputs": [],
   "source": [
    "import numpy as np   \n",
    "\n",
    "from sklearn.linear_model import LinearRegression\n",
    "\n",
    "import pandas as pd    \n",
    "\n",
    "import matplotlib.pyplot as plt   \n",
    "import matplotlib.style\n",
    "plt.style.use('classic')\n",
    "import seaborn as sns"
   ]
  },
  {
   "cell_type": "code",
   "execution_count": 2,
   "id": "c712b376",
   "metadata": {},
   "outputs": [],
   "source": [
    "mpg_df = pd.read_csv(\"car-mpg.csv\")"
   ]
  },
  {
   "cell_type": "code",
   "execution_count": 3,
   "id": "48557c25",
   "metadata": {},
   "outputs": [
    {
     "data": {
      "text/html": [
       "<div>\n",
       "<style scoped>\n",
       "    .dataframe tbody tr th:only-of-type {\n",
       "        vertical-align: middle;\n",
       "    }\n",
       "\n",
       "    .dataframe tbody tr th {\n",
       "        vertical-align: top;\n",
       "    }\n",
       "\n",
       "    .dataframe thead th {\n",
       "        text-align: right;\n",
       "    }\n",
       "</style>\n",
       "<table border=\"1\" class=\"dataframe\">\n",
       "  <thead>\n",
       "    <tr style=\"text-align: right;\">\n",
       "      <th></th>\n",
       "      <th>mpg</th>\n",
       "      <th>cyl</th>\n",
       "      <th>disp</th>\n",
       "      <th>hp</th>\n",
       "      <th>wt</th>\n",
       "      <th>acc</th>\n",
       "      <th>yr</th>\n",
       "      <th>origin</th>\n",
       "      <th>car_type</th>\n",
       "      <th>car_name</th>\n",
       "    </tr>\n",
       "  </thead>\n",
       "  <tbody>\n",
       "    <tr>\n",
       "      <th>0</th>\n",
       "      <td>18.0</td>\n",
       "      <td>8</td>\n",
       "      <td>307.0</td>\n",
       "      <td>130</td>\n",
       "      <td>3504</td>\n",
       "      <td>12.0</td>\n",
       "      <td>70</td>\n",
       "      <td>1</td>\n",
       "      <td>0</td>\n",
       "      <td>chevrolet chevelle malibu</td>\n",
       "    </tr>\n",
       "    <tr>\n",
       "      <th>1</th>\n",
       "      <td>15.0</td>\n",
       "      <td>8</td>\n",
       "      <td>350.0</td>\n",
       "      <td>165</td>\n",
       "      <td>3693</td>\n",
       "      <td>11.5</td>\n",
       "      <td>70</td>\n",
       "      <td>1</td>\n",
       "      <td>0</td>\n",
       "      <td>buick skylark 320</td>\n",
       "    </tr>\n",
       "    <tr>\n",
       "      <th>2</th>\n",
       "      <td>18.0</td>\n",
       "      <td>8</td>\n",
       "      <td>318.0</td>\n",
       "      <td>150</td>\n",
       "      <td>3436</td>\n",
       "      <td>11.0</td>\n",
       "      <td>70</td>\n",
       "      <td>1</td>\n",
       "      <td>0</td>\n",
       "      <td>plymouth satellite</td>\n",
       "    </tr>\n",
       "    <tr>\n",
       "      <th>3</th>\n",
       "      <td>16.0</td>\n",
       "      <td>8</td>\n",
       "      <td>304.0</td>\n",
       "      <td>150</td>\n",
       "      <td>3433</td>\n",
       "      <td>12.0</td>\n",
       "      <td>70</td>\n",
       "      <td>1</td>\n",
       "      <td>0</td>\n",
       "      <td>amc rebel sst</td>\n",
       "    </tr>\n",
       "    <tr>\n",
       "      <th>4</th>\n",
       "      <td>17.0</td>\n",
       "      <td>8</td>\n",
       "      <td>302.0</td>\n",
       "      <td>140</td>\n",
       "      <td>3449</td>\n",
       "      <td>10.5</td>\n",
       "      <td>70</td>\n",
       "      <td>1</td>\n",
       "      <td>0</td>\n",
       "      <td>ford torino</td>\n",
       "    </tr>\n",
       "    <tr>\n",
       "      <th>...</th>\n",
       "      <td>...</td>\n",
       "      <td>...</td>\n",
       "      <td>...</td>\n",
       "      <td>...</td>\n",
       "      <td>...</td>\n",
       "      <td>...</td>\n",
       "      <td>...</td>\n",
       "      <td>...</td>\n",
       "      <td>...</td>\n",
       "      <td>...</td>\n",
       "    </tr>\n",
       "    <tr>\n",
       "      <th>393</th>\n",
       "      <td>27.0</td>\n",
       "      <td>4</td>\n",
       "      <td>140.0</td>\n",
       "      <td>86</td>\n",
       "      <td>2790</td>\n",
       "      <td>15.6</td>\n",
       "      <td>82</td>\n",
       "      <td>1</td>\n",
       "      <td>1</td>\n",
       "      <td>ford mustang gl</td>\n",
       "    </tr>\n",
       "    <tr>\n",
       "      <th>394</th>\n",
       "      <td>44.0</td>\n",
       "      <td>4</td>\n",
       "      <td>97.0</td>\n",
       "      <td>52</td>\n",
       "      <td>2130</td>\n",
       "      <td>24.6</td>\n",
       "      <td>82</td>\n",
       "      <td>2</td>\n",
       "      <td>1</td>\n",
       "      <td>vw pickup</td>\n",
       "    </tr>\n",
       "    <tr>\n",
       "      <th>395</th>\n",
       "      <td>32.0</td>\n",
       "      <td>4</td>\n",
       "      <td>135.0</td>\n",
       "      <td>84</td>\n",
       "      <td>2295</td>\n",
       "      <td>11.6</td>\n",
       "      <td>82</td>\n",
       "      <td>1</td>\n",
       "      <td>1</td>\n",
       "      <td>dodge rampage</td>\n",
       "    </tr>\n",
       "    <tr>\n",
       "      <th>396</th>\n",
       "      <td>28.0</td>\n",
       "      <td>4</td>\n",
       "      <td>120.0</td>\n",
       "      <td>79</td>\n",
       "      <td>2625</td>\n",
       "      <td>18.6</td>\n",
       "      <td>82</td>\n",
       "      <td>1</td>\n",
       "      <td>1</td>\n",
       "      <td>ford ranger</td>\n",
       "    </tr>\n",
       "    <tr>\n",
       "      <th>397</th>\n",
       "      <td>31.0</td>\n",
       "      <td>4</td>\n",
       "      <td>119.0</td>\n",
       "      <td>82</td>\n",
       "      <td>2720</td>\n",
       "      <td>19.4</td>\n",
       "      <td>82</td>\n",
       "      <td>1</td>\n",
       "      <td>1</td>\n",
       "      <td>chevy s-10</td>\n",
       "    </tr>\n",
       "  </tbody>\n",
       "</table>\n",
       "<p>398 rows × 10 columns</p>\n",
       "</div>"
      ],
      "text/plain": [
       "      mpg  cyl   disp   hp    wt   acc  yr  origin  car_type  \\\n",
       "0    18.0    8  307.0  130  3504  12.0  70       1         0   \n",
       "1    15.0    8  350.0  165  3693  11.5  70       1         0   \n",
       "2    18.0    8  318.0  150  3436  11.0  70       1         0   \n",
       "3    16.0    8  304.0  150  3433  12.0  70       1         0   \n",
       "4    17.0    8  302.0  140  3449  10.5  70       1         0   \n",
       "..    ...  ...    ...  ...   ...   ...  ..     ...       ...   \n",
       "393  27.0    4  140.0   86  2790  15.6  82       1         1   \n",
       "394  44.0    4   97.0   52  2130  24.6  82       2         1   \n",
       "395  32.0    4  135.0   84  2295  11.6  82       1         1   \n",
       "396  28.0    4  120.0   79  2625  18.6  82       1         1   \n",
       "397  31.0    4  119.0   82  2720  19.4  82       1         1   \n",
       "\n",
       "                      car_name  \n",
       "0    chevrolet chevelle malibu  \n",
       "1            buick skylark 320  \n",
       "2           plymouth satellite  \n",
       "3                amc rebel sst  \n",
       "4                  ford torino  \n",
       "..                         ...  \n",
       "393            ford mustang gl  \n",
       "394                  vw pickup  \n",
       "395              dodge rampage  \n",
       "396                ford ranger  \n",
       "397                 chevy s-10  \n",
       "\n",
       "[398 rows x 10 columns]"
      ]
     },
     "execution_count": 3,
     "metadata": {},
     "output_type": "execute_result"
    }
   ],
   "source": [
    "mpg_df"
   ]
  },
  {
   "cell_type": "code",
   "execution_count": 4,
   "id": "9fe40ffa",
   "metadata": {},
   "outputs": [
    {
     "data": {
      "text/plain": [
       "mpg         0\n",
       "cyl         0\n",
       "disp        0\n",
       "hp          0\n",
       "wt          0\n",
       "acc         0\n",
       "yr          0\n",
       "origin      0\n",
       "car_type    0\n",
       "car_name    0\n",
       "dtype: int64"
      ]
     },
     "execution_count": 4,
     "metadata": {},
     "output_type": "execute_result"
    }
   ],
   "source": [
    "mpg_df.isnull().sum()"
   ]
  },
  {
   "cell_type": "code",
   "execution_count": 5,
   "id": "5fe6a4b9",
   "metadata": {},
   "outputs": [
    {
     "name": "stdout",
     "output_type": "stream",
     "text": [
      "<class 'pandas.core.frame.DataFrame'>\n",
      "RangeIndex: 398 entries, 0 to 397\n",
      "Data columns (total 10 columns):\n",
      " #   Column    Non-Null Count  Dtype  \n",
      "---  ------    --------------  -----  \n",
      " 0   mpg       398 non-null    float64\n",
      " 1   cyl       398 non-null    int64  \n",
      " 2   disp      398 non-null    float64\n",
      " 3   hp        398 non-null    object \n",
      " 4   wt        398 non-null    int64  \n",
      " 5   acc       398 non-null    float64\n",
      " 6   yr        398 non-null    int64  \n",
      " 7   origin    398 non-null    int64  \n",
      " 8   car_type  398 non-null    int64  \n",
      " 9   car_name  398 non-null    object \n",
      "dtypes: float64(3), int64(5), object(2)\n",
      "memory usage: 31.2+ KB\n"
     ]
    }
   ],
   "source": [
    "mpg_df.info()"
   ]
  },
  {
   "cell_type": "code",
   "execution_count": 6,
   "id": "f79de01b",
   "metadata": {},
   "outputs": [],
   "source": [
    "mpg_df['hp'] = pd.to_numeric(mpg_df['hp'], errors='coerce')"
   ]
  },
  {
   "cell_type": "code",
   "execution_count": 7,
   "id": "159bed88",
   "metadata": {},
   "outputs": [
    {
     "name": "stdout",
     "output_type": "stream",
     "text": [
      "<class 'pandas.core.frame.DataFrame'>\n",
      "RangeIndex: 398 entries, 0 to 397\n",
      "Data columns (total 10 columns):\n",
      " #   Column    Non-Null Count  Dtype  \n",
      "---  ------    --------------  -----  \n",
      " 0   mpg       398 non-null    float64\n",
      " 1   cyl       398 non-null    int64  \n",
      " 2   disp      398 non-null    float64\n",
      " 3   hp        392 non-null    float64\n",
      " 4   wt        398 non-null    int64  \n",
      " 5   acc       398 non-null    float64\n",
      " 6   yr        398 non-null    int64  \n",
      " 7   origin    398 non-null    int64  \n",
      " 8   car_type  398 non-null    int64  \n",
      " 9   car_name  398 non-null    object \n",
      "dtypes: float64(4), int64(5), object(1)\n",
      "memory usage: 31.2+ KB\n"
     ]
    }
   ],
   "source": [
    "mpg_df.info()"
   ]
  },
  {
   "cell_type": "code",
   "execution_count": 8,
   "id": "fa37ef91",
   "metadata": {},
   "outputs": [],
   "source": [
    "mpg_df['hp'] = mpg_df['hp'].fillna(mpg_df['hp'].mean())"
   ]
  },
  {
   "cell_type": "code",
   "execution_count": 9,
   "id": "2e9c4d8d",
   "metadata": {},
   "outputs": [
    {
     "name": "stdout",
     "output_type": "stream",
     "text": [
      "<class 'pandas.core.frame.DataFrame'>\n",
      "RangeIndex: 398 entries, 0 to 397\n",
      "Data columns (total 10 columns):\n",
      " #   Column    Non-Null Count  Dtype  \n",
      "---  ------    --------------  -----  \n",
      " 0   mpg       398 non-null    float64\n",
      " 1   cyl       398 non-null    int64  \n",
      " 2   disp      398 non-null    float64\n",
      " 3   hp        398 non-null    float64\n",
      " 4   wt        398 non-null    int64  \n",
      " 5   acc       398 non-null    float64\n",
      " 6   yr        398 non-null    int64  \n",
      " 7   origin    398 non-null    int64  \n",
      " 8   car_type  398 non-null    int64  \n",
      " 9   car_name  398 non-null    object \n",
      "dtypes: float64(4), int64(5), object(1)\n",
      "memory usage: 31.2+ KB\n"
     ]
    }
   ],
   "source": [
    "mpg_df.info()"
   ]
  },
  {
   "cell_type": "code",
   "execution_count": 10,
   "id": "f9bc340c",
   "metadata": {},
   "outputs": [
    {
     "data": {
      "text/plain": [
       "mpg         0\n",
       "cyl         0\n",
       "disp        0\n",
       "hp          0\n",
       "wt          0\n",
       "acc         0\n",
       "yr          0\n",
       "origin      0\n",
       "car_type    0\n",
       "car_name    0\n",
       "dtype: int64"
      ]
     },
     "execution_count": 10,
     "metadata": {},
     "output_type": "execute_result"
    }
   ],
   "source": [
    "mpg_df.isnull().sum()"
   ]
  },
  {
   "cell_type": "code",
   "execution_count": 11,
   "id": "6e40195f",
   "metadata": {},
   "outputs": [],
   "source": [
    "X = mpg_df.drop(['mpg','origin','car_type','car_name'],axis=1)"
   ]
  },
  {
   "cell_type": "code",
   "execution_count": 12,
   "id": "e5131de9",
   "metadata": {},
   "outputs": [],
   "source": [
    "Y = mpg_df['mpg']"
   ]
  },
  {
   "cell_type": "markdown",
   "id": "2a61d433",
   "metadata": {},
   "source": [
    "##BUILDING A LINEAR REGRESSION"
   ]
  },
  {
   "cell_type": "code",
   "execution_count": 13,
   "id": "f489c32f",
   "metadata": {},
   "outputs": [],
   "source": [
    "from sklearn.model_selection import train_test_split"
   ]
  },
  {
   "cell_type": "code",
   "execution_count": 14,
   "id": "a1ca2ba5",
   "metadata": {},
   "outputs": [],
   "source": [
    "X_train , X_test , Y_train , Y_test = train_test_split(X,Y,test_size = 0.30 , random_state=1)"
   ]
  },
  {
   "cell_type": "code",
   "execution_count": 15,
   "id": "2fe68e30",
   "metadata": {},
   "outputs": [],
   "source": [
    "Lin_Reg = LinearRegression()"
   ]
  },
  {
   "cell_type": "code",
   "execution_count": 16,
   "id": "9ca6aafa",
   "metadata": {},
   "outputs": [],
   "source": [
    "Line = Lin_Reg.fit(X_train,Y_train)"
   ]
  },
  {
   "cell_type": "code",
   "execution_count": 17,
   "id": "ae436435",
   "metadata": {},
   "outputs": [
    {
     "name": "stdout",
     "output_type": "stream",
     "text": [
      "<class 'pandas.core.frame.DataFrame'>\n",
      "Index: 278 entries, 350 to 37\n",
      "Data columns (total 6 columns):\n",
      " #   Column  Non-Null Count  Dtype  \n",
      "---  ------  --------------  -----  \n",
      " 0   cyl     278 non-null    int64  \n",
      " 1   disp    278 non-null    float64\n",
      " 2   hp      278 non-null    float64\n",
      " 3   wt      278 non-null    int64  \n",
      " 4   acc     278 non-null    float64\n",
      " 5   yr      278 non-null    int64  \n",
      "dtypes: float64(3), int64(3)\n",
      "memory usage: 15.2 KB\n"
     ]
    }
   ],
   "source": [
    "X_train.info()"
   ]
  },
  {
   "cell_type": "code",
   "execution_count": 18,
   "id": "72367d4c",
   "metadata": {},
   "outputs": [
    {
     "name": "stdout",
     "output_type": "stream",
     "text": [
      "<class 'pandas.core.frame.DataFrame'>\n",
      "Index: 120 entries, 174 to 247\n",
      "Data columns (total 6 columns):\n",
      " #   Column  Non-Null Count  Dtype  \n",
      "---  ------  --------------  -----  \n",
      " 0   cyl     120 non-null    int64  \n",
      " 1   disp    120 non-null    float64\n",
      " 2   hp      120 non-null    float64\n",
      " 3   wt      120 non-null    int64  \n",
      " 4   acc     120 non-null    float64\n",
      " 5   yr      120 non-null    int64  \n",
      "dtypes: float64(3), int64(3)\n",
      "memory usage: 6.6 KB\n"
     ]
    }
   ],
   "source": [
    "X_test.info()"
   ]
  },
  {
   "cell_type": "code",
   "execution_count": 19,
   "id": "dad958bf",
   "metadata": {},
   "outputs": [
    {
     "data": {
      "text/plain": [
       "-15.536613116761533"
      ]
     },
     "execution_count": 19,
     "metadata": {},
     "output_type": "execute_result"
    }
   ],
   "source": [
    "Line.intercept_"
   ]
  },
  {
   "cell_type": "code",
   "execution_count": 20,
   "id": "e94b544b",
   "metadata": {},
   "outputs": [
    {
     "data": {
      "text/plain": [
       "array([-0.18121006,  0.0110253 , -0.00964325, -0.0071721 ,  0.02649411,\n",
       "        0.7879939 ])"
      ]
     },
     "execution_count": 20,
     "metadata": {},
     "output_type": "execute_result"
    }
   ],
   "source": [
    "Line.coef_"
   ]
  },
  {
   "cell_type": "code",
   "execution_count": 21,
   "id": "ece09005",
   "metadata": {},
   "outputs": [
    {
     "name": "stdout",
     "output_type": "stream",
     "text": [
      "The coefficient for cyl is -0.18121005727478962\n",
      "The coefficient for disp is 0.011025296788744438\n",
      "The coefficient for hp is -0.009643252987610923\n",
      "The coefficient for wt is -0.007172102123643265\n",
      "The coefficient for acc is 0.02649411326151786\n",
      "The coefficient for yr is 0.7879939031727107\n"
     ]
    }
   ],
   "source": [
    "for idx, col_name in enumerate(X_train.columns):\n",
    "    print(f\"The coefficient for {col_name} is {Lin_Reg.coef_[idx]}\")\n"
   ]
  },
  {
   "cell_type": "code",
   "execution_count": 22,
   "id": "d16ec1a2",
   "metadata": {},
   "outputs": [],
   "source": [
    "##MODEL EVALUATION"
   ]
  },
  {
   "cell_type": "code",
   "execution_count": 23,
   "id": "fe469137",
   "metadata": {},
   "outputs": [
    {
     "data": {
      "text/plain": [
       "0.7997247899128472"
      ]
     },
     "execution_count": 23,
     "metadata": {},
     "output_type": "execute_result"
    }
   ],
   "source": [
    "Line.score(X_train,Y_train) ## for train data"
   ]
  },
  {
   "cell_type": "code",
   "execution_count": 24,
   "id": "a96a889b",
   "metadata": {},
   "outputs": [
    {
     "data": {
      "text/plain": [
       "0.8265574169791732"
      ]
     },
     "execution_count": 24,
     "metadata": {},
     "output_type": "execute_result"
    }
   ],
   "source": [
    "Line.score(X_test,Y_test) ## for test data"
   ]
  },
  {
   "cell_type": "code",
   "execution_count": 25,
   "id": "83027393",
   "metadata": {},
   "outputs": [],
   "source": [
    "## MEAN SQUARE ERROR\n",
    "mse = np.mean((Line.predict(X_test) - Y_test) ** 2)"
   ]
  },
  {
   "cell_type": "code",
   "execution_count": 26,
   "id": "24235439",
   "metadata": {},
   "outputs": [
    {
     "data": {
      "text/plain": [
       "10.140657383994672"
      ]
     },
     "execution_count": 26,
     "metadata": {},
     "output_type": "execute_result"
    }
   ],
   "source": [
    "mse"
   ]
  },
  {
   "cell_type": "code",
   "execution_count": 27,
   "id": "fbf452ae",
   "metadata": {},
   "outputs": [],
   "source": [
    "Y_pred = Line.predict(X_test)"
   ]
  },
  {
   "cell_type": "code",
   "execution_count": 28,
   "id": "c2b637c8",
   "metadata": {},
   "outputs": [
    {
     "data": {
      "text/plain": [
       "array([22.40821139, 25.72374947, 20.1951407 , 25.59612726, 24.3829004 ,\n",
       "       15.41537338, 28.66562291, 33.70496135, 17.04814249, 10.72421866,\n",
       "       31.34677648, 16.87970984, 22.47018007, 26.37903941, 35.73845387,\n",
       "       22.4894354 , 10.12461369, 21.14386719,  8.14618217, 32.32144447,\n",
       "       25.41210419, 31.20164378, 21.79076023, 25.01454842, 26.56969495,\n",
       "       28.45874297, 31.624202  , 31.83795818, 15.69447182, 31.03109439,\n",
       "       28.23911019, 10.0683631 , 20.10912327, 27.77898681, 26.00263674,\n",
       "       13.64735073, 28.24060091,  8.16639711, 32.87978587, 25.08930939,\n",
       "       25.98012469, 25.75883487, 20.98982548, 32.67942101, 27.40314547,\n",
       "       22.55085479, 21.08467065, 11.68134947, 28.03757131, 19.24612194,\n",
       "       24.22655452, 27.78509293, 16.59688051, 11.93604846, 30.23331078,\n",
       "       24.69701246,  9.53640926, 12.87454272, 30.06612251, 35.0154818 ,\n",
       "       35.00269988, 35.03402768, 18.15710098, 28.84009875, 19.87418478,\n",
       "       32.13812728, 28.11382561, 27.06650263, 30.80185792, 12.59278573,\n",
       "       19.78839343, 24.23659536, 14.70679642, 27.80056471, 11.98832315,\n",
       "       27.46257586, 26.6543434 , 16.46747622, 11.51311783, 23.45119347,\n",
       "       20.40847132, 19.15189174, 34.66029358, 25.46192768, 33.65061298,\n",
       "       17.00374426, 15.35583738, 23.962878  , 34.33426015, 31.44048782,\n",
       "       19.06892583, 22.89885648, 21.19744868, 24.63800912, 30.42718689,\n",
       "       22.8876439 , 32.29414973, 27.63926499, 23.27262448, 24.45311639,\n",
       "       21.34355204,  8.58375992, 15.83896448, 33.56410749, 12.86005376,\n",
       "       22.55958532, 32.38931254, 22.82853061, 25.92485541, 17.61863629,\n",
       "       19.65842365, 30.14340508, 29.74140372, 17.39723364, 23.4939993 ,\n",
       "       33.2161323 ,  9.97224142, 24.36837747, 26.6645072 , 31.11073273])"
      ]
     },
     "execution_count": 28,
     "metadata": {},
     "output_type": "execute_result"
    }
   ],
   "source": [
    "Y_pred"
   ]
  },
  {
   "cell_type": "code",
   "execution_count": 29,
   "id": "48ffa26e",
   "metadata": {},
   "outputs": [
    {
     "data": {
      "text/plain": [
       "Index(['cyl', 'disp', 'hp', 'wt', 'acc', 'yr'], dtype='object')"
      ]
     },
     "execution_count": 29,
     "metadata": {},
     "output_type": "execute_result"
    }
   ],
   "source": [
    "X_train.columns"
   ]
  },
  {
   "cell_type": "code",
   "execution_count": 30,
   "id": "31c1815c",
   "metadata": {},
   "outputs": [
    {
     "data": {
      "text/plain": [
       "75.82374100719424"
      ]
     },
     "execution_count": 30,
     "metadata": {},
     "output_type": "execute_result"
    }
   ],
   "source": [
    "X_train['yr'].mean()"
   ]
  },
  {
   "cell_type": "code",
   "execution_count": null,
   "id": "5ca93c21",
   "metadata": {},
   "outputs": [],
   "source": []
  },
  {
   "cell_type": "code",
   "execution_count": null,
   "id": "ce5e031c",
   "metadata": {},
   "outputs": [],
   "source": []
  },
  {
   "cell_type": "code",
   "execution_count": null,
   "id": "abee3ea1",
   "metadata": {},
   "outputs": [],
   "source": []
  },
  {
   "cell_type": "code",
   "execution_count": 31,
   "id": "55121c77",
   "metadata": {},
   "outputs": [],
   "source": [
    "data = {'cyl' : [10,8,12] , 'disp' : [223,339,200] , 'hp' :[113,150,210] , 'wt' : [2400,2500,2350] , 'acc' : [15,16,20],'yr' : [90,70,72]}"
   ]
  },
  {
   "cell_type": "code",
   "execution_count": 32,
   "id": "8d3dd641",
   "metadata": {},
   "outputs": [],
   "source": [
    "X_sample = pd.DataFrame(data)"
   ]
  },
  {
   "cell_type": "code",
   "execution_count": 33,
   "id": "98c4ab3a",
   "metadata": {},
   "outputs": [],
   "source": [
    "Y_Sample_Pred = Line.predict(X_sample)"
   ]
  },
  {
   "cell_type": "code",
   "execution_count": 34,
   "id": "dc5134c7",
   "metadata": {},
   "outputs": [
    {
     "data": {
      "text/plain": [
       "array([38.12405779, 22.95801781, 22.87984573])"
      ]
     },
     "execution_count": 34,
     "metadata": {},
     "output_type": "execute_result"
    }
   ],
   "source": [
    "Y_Sample_Pred"
   ]
  },
  {
   "cell_type": "code",
   "execution_count": 35,
   "id": "980fef47",
   "metadata": {},
   "outputs": [],
   "source": [
    "from scipy.stats import zscore \n",
    "X_train_scaled = X_train.apply(zscore)"
   ]
  },
  {
   "cell_type": "code",
   "execution_count": 36,
   "id": "d649a6d8",
   "metadata": {},
   "outputs": [],
   "source": [
    "X_test_scaled = X_test.apply(zscore, axis=0)  # Scale each column (feature) independently\n",
    "Y_train_scaled = zscore(Y_train)  # If Y_train is a Series\n",
    "Y_test_scaled = zscore(Y_test)    \n"
   ]
  },
  {
   "cell_type": "code",
   "execution_count": 37,
   "id": "573ec757",
   "metadata": {},
   "outputs": [],
   "source": [
    "Lin_reg = LinearRegression()\n",
    "Line2 = Lin_reg.fit(X_train_scaled, Y_train_scaled)"
   ]
  },
  {
   "cell_type": "code",
   "execution_count": 38,
   "id": "1ccc32e9",
   "metadata": {},
   "outputs": [
    {
     "data": {
      "text/plain": [
       "0.7997247899128471"
      ]
     },
     "execution_count": 38,
     "metadata": {},
     "output_type": "execute_result"
    }
   ],
   "source": [
    "Line2.score(X_train_scaled , Y_train_scaled)"
   ]
  },
  {
   "cell_type": "code",
   "execution_count": 39,
   "id": "33f509f9",
   "metadata": {},
   "outputs": [
    {
     "data": {
      "text/plain": [
       "0.8290280290108031"
      ]
     },
     "execution_count": 39,
     "metadata": {},
     "output_type": "execute_result"
    }
   ],
   "source": [
    "Line2.score(X_test_scaled , Y_test_scaled)"
   ]
  },
  {
   "cell_type": "markdown",
   "id": "18e86b10",
   "metadata": {},
   "source": [
    "## RIDGE LINEAR REGRESSION \n"
   ]
  },
  {
   "cell_type": "code",
   "execution_count": 40,
   "id": "47eadc63",
   "metadata": {},
   "outputs": [],
   "source": [
    "from sklearn.linear_model import Ridge\n",
    "from sklearn.linear_model import Lasso\n"
   ]
  },
  {
   "cell_type": "raw",
   "id": "b14e140b",
   "metadata": {},
   "source": []
  },
  {
   "cell_type": "code",
   "execution_count": 41,
   "id": "cdd5ad6f",
   "metadata": {},
   "outputs": [
    {
     "name": "stdout",
     "output_type": "stream",
     "text": [
      "Ridge Model Coefficients: [-0.03847864  0.14301483 -0.04595239 -0.76936874  0.00933427  0.36930094]\n"
     ]
    }
   ],
   "source": [
    "ridge = Ridge(alpha=0.000000000004)\n",
    "ridge.fit(X_train_scaled, Y_train_scaled)\n",
    "print(\"Ridge Model Coefficients:\", ridge.coef_)"
   ]
  },
  {
   "cell_type": "code",
   "execution_count": 42,
   "id": "9383ecff",
   "metadata": {},
   "outputs": [
    {
     "data": {
      "text/plain": [
       "0.8290280290108049"
      ]
     },
     "execution_count": 42,
     "metadata": {},
     "output_type": "execute_result"
    }
   ],
   "source": [
    "ridge.score(X_test_scaled , Y_test_scaled)"
   ]
  },
  {
   "cell_type": "code",
   "execution_count": 43,
   "id": "5e64f56a",
   "metadata": {},
   "outputs": [
    {
     "data": {
      "text/plain": [
       "0.7997247899128472"
      ]
     },
     "execution_count": 43,
     "metadata": {},
     "output_type": "execute_result"
    }
   ],
   "source": [
    "ridge.score(X_train_scaled , Y_train_scaled)"
   ]
  },
  {
   "cell_type": "code",
   "execution_count": 44,
   "id": "a295a45e",
   "metadata": {},
   "outputs": [
    {
     "data": {
      "text/plain": [
       "-87582.68478526546"
      ]
     },
     "execution_count": 44,
     "metadata": {},
     "output_type": "execute_result"
    }
   ],
   "source": [
    "ridge.score(X_train , Y_train)"
   ]
  },
  {
   "cell_type": "code",
   "execution_count": 45,
   "id": "5f0d253c",
   "metadata": {},
   "outputs": [
    {
     "data": {
      "text/plain": [
       "-96825.10344611052"
      ]
     },
     "execution_count": 45,
     "metadata": {},
     "output_type": "execute_result"
    }
   ],
   "source": [
    "ridge.score(X_test , Y_test)"
   ]
  },
  {
   "cell_type": "code",
   "execution_count": 46,
   "id": "9e53ff8e",
   "metadata": {},
   "outputs": [
    {
     "name": "stdout",
     "output_type": "stream",
     "text": [
      "Ridge Model Coefficients: [-0.18042647  0.01101165 -0.00964852 -0.00717187  0.02646778  0.78792163]\n"
     ]
    }
   ],
   "source": [
    "ridge = Ridge(alpha=0.3)\n",
    "ridge.fit(X_train, Y_train)\n",
    "print(\"Ridge Model Coefficients:\", ridge.coef_)"
   ]
  },
  {
   "cell_type": "code",
   "execution_count": 47,
   "id": "ff7b55a0",
   "metadata": {},
   "outputs": [
    {
     "data": {
      "text/plain": [
       "0.7997247864457854"
      ]
     },
     "execution_count": 47,
     "metadata": {},
     "output_type": "execute_result"
    }
   ],
   "source": [
    "ridge.score(X_train,Y_train)"
   ]
  },
  {
   "cell_type": "markdown",
   "id": "9969338c",
   "metadata": {},
   "source": [
    "##LASSSO REGULARIZATION"
   ]
  },
  {
   "cell_type": "code",
   "execution_count": 48,
   "id": "7279db0d",
   "metadata": {},
   "outputs": [
    {
     "name": "stdout",
     "output_type": "stream",
     "text": [
      "Lasso Model Coefficients: [-0.          0.         -0.02845925 -0.68514049  0.          0.35835042]\n"
     ]
    }
   ],
   "source": [
    "lasso = Lasso(alpha=0.007)\n",
    "lasso.fit(X_train_scaled, Y_train_scaled)\n",
    "print(\"Lasso Model Coefficients:\", lasso.coef_)"
   ]
  },
  {
   "cell_type": "code",
   "execution_count": 49,
   "id": "46f0d577",
   "metadata": {},
   "outputs": [
    {
     "data": {
      "text/plain": [
       "0.8316018661905034"
      ]
     },
     "execution_count": 49,
     "metadata": {},
     "output_type": "execute_result"
    }
   ],
   "source": [
    "lasso.score(X_test_scaled , Y_test_scaled)"
   ]
  },
  {
   "cell_type": "code",
   "execution_count": 50,
   "id": "8a4976ff",
   "metadata": {},
   "outputs": [
    {
     "data": {
      "text/plain": [
       "0.7984528879088575"
      ]
     },
     "execution_count": 50,
     "metadata": {},
     "output_type": "execute_result"
    }
   ],
   "source": [
    "lasso.score(X_train_scaled , Y_train_scaled)"
   ]
  },
  {
   "cell_type": "code",
   "execution_count": null,
   "id": "8921f49d",
   "metadata": {},
   "outputs": [],
   "source": []
  },
  {
   "cell_type": "code",
   "execution_count": null,
   "id": "c62e682d",
   "metadata": {},
   "outputs": [],
   "source": []
  },
  {
   "cell_type": "code",
   "execution_count": null,
   "id": "8fb19637",
   "metadata": {},
   "outputs": [],
   "source": []
  },
  {
   "cell_type": "code",
   "execution_count": null,
   "id": "cf849c90",
   "metadata": {},
   "outputs": [],
   "source": []
  }
 ],
 "metadata": {
  "kernelspec": {
   "display_name": "Python 3 (ipykernel)",
   "language": "python",
   "name": "python3"
  },
  "language_info": {
   "codemirror_mode": {
    "name": "ipython",
    "version": 3
   },
   "file_extension": ".py",
   "mimetype": "text/x-python",
   "name": "python",
   "nbconvert_exporter": "python",
   "pygments_lexer": "ipython3",
   "version": "3.11.5"
  }
 },
 "nbformat": 4,
 "nbformat_minor": 5
}
